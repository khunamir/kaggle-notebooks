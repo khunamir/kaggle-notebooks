{
 "cells": [
  {
   "cell_type": "code",
   "execution_count": 1,
   "id": "56232eb4",
   "metadata": {
    "_cell_guid": "973e3562-cf9c-4e5c-88a0-1bc41cf6fafe",
    "_uuid": "8ea82ef4-b637-4192-8dd7-b69b496196a2",
    "collapsed": false,
    "execution": {
     "iopub.execute_input": "2022-03-21T08:02:34.586413Z",
     "iopub.status.busy": "2022-03-21T08:02:34.585412Z",
     "iopub.status.idle": "2022-03-21T08:02:34.653283Z",
     "shell.execute_reply": "2022-03-21T08:02:34.653908Z",
     "shell.execute_reply.started": "2022-03-19T14:09:04.7919Z"
    },
    "jupyter": {
     "outputs_hidden": false
    },
    "papermill": {
     "duration": 0.122976,
     "end_time": "2022-03-21T08:02:34.654256",
     "exception": false,
     "start_time": "2022-03-21T08:02:34.531280",
     "status": "completed"
    },
    "tags": []
   },
   "outputs": [
    {
     "name": "stdout",
     "output_type": "stream",
     "text": [
      "/kaggle/input/reddit-vaccine-myths/reddit_vm.csv\n"
     ]
    },
    {
     "data": {
      "text/html": [
       "<div>\n",
       "<style scoped>\n",
       "    .dataframe tbody tr th:only-of-type {\n",
       "        vertical-align: middle;\n",
       "    }\n",
       "\n",
       "    .dataframe tbody tr th {\n",
       "        vertical-align: top;\n",
       "    }\n",
       "\n",
       "    .dataframe thead th {\n",
       "        text-align: right;\n",
       "    }\n",
       "</style>\n",
       "<table border=\"1\" class=\"dataframe\">\n",
       "  <thead>\n",
       "    <tr style=\"text-align: right;\">\n",
       "      <th></th>\n",
       "      <th>title</th>\n",
       "      <th>score</th>\n",
       "      <th>id</th>\n",
       "      <th>url</th>\n",
       "      <th>comms_num</th>\n",
       "      <th>created</th>\n",
       "      <th>body</th>\n",
       "      <th>timestamp</th>\n",
       "    </tr>\n",
       "  </thead>\n",
       "  <tbody>\n",
       "    <tr>\n",
       "      <th>0</th>\n",
       "      <td>Health Canada approves AstraZeneca COVID-19 va...</td>\n",
       "      <td>7</td>\n",
       "      <td>lt74vw</td>\n",
       "      <td>https://www.canadaforums.ca/2021/02/health-can...</td>\n",
       "      <td>0</td>\n",
       "      <td>1.614400e+09</td>\n",
       "      <td>NaN</td>\n",
       "      <td>2021-02-27 06:33:45</td>\n",
       "    </tr>\n",
       "    <tr>\n",
       "      <th>1</th>\n",
       "      <td>COVID-19 in Canada: 'Vaccination passports' a ...</td>\n",
       "      <td>2</td>\n",
       "      <td>lsh0ij</td>\n",
       "      <td>https://www.canadaforums.ca/2021/02/covid-19-i...</td>\n",
       "      <td>1</td>\n",
       "      <td>1.614316e+09</td>\n",
       "      <td>NaN</td>\n",
       "      <td>2021-02-26 07:11:07</td>\n",
       "    </tr>\n",
       "    <tr>\n",
       "      <th>2</th>\n",
       "      <td>Coronavirus variants could fuel Canada's third...</td>\n",
       "      <td>6</td>\n",
       "      <td>lohlle</td>\n",
       "      <td>https://www.canadaforums.ca/2021/02/coronaviru...</td>\n",
       "      <td>0</td>\n",
       "      <td>1.613887e+09</td>\n",
       "      <td>NaN</td>\n",
       "      <td>2021-02-21 07:50:08</td>\n",
       "    </tr>\n",
       "    <tr>\n",
       "      <th>3</th>\n",
       "      <td>Canadian government to extend COVID-19 emergen...</td>\n",
       "      <td>1</td>\n",
       "      <td>lnptv8</td>\n",
       "      <td>https://www.canadaforums.ca/2021/02/canadian-g...</td>\n",
       "      <td>0</td>\n",
       "      <td>1.613796e+09</td>\n",
       "      <td>NaN</td>\n",
       "      <td>2021-02-20 06:35:13</td>\n",
       "    </tr>\n",
       "    <tr>\n",
       "      <th>4</th>\n",
       "      <td>Canada: Pfizer is 'extremely committed' to mee...</td>\n",
       "      <td>6</td>\n",
       "      <td>lkslm6</td>\n",
       "      <td>https://www.canadaforums.ca/2021/02/canada-pfi...</td>\n",
       "      <td>0</td>\n",
       "      <td>1.613468e+09</td>\n",
       "      <td>NaN</td>\n",
       "      <td>2021-02-16 11:36:28</td>\n",
       "    </tr>\n",
       "  </tbody>\n",
       "</table>\n",
       "</div>"
      ],
      "text/plain": [
       "                                               title  score      id  \\\n",
       "0  Health Canada approves AstraZeneca COVID-19 va...      7  lt74vw   \n",
       "1  COVID-19 in Canada: 'Vaccination passports' a ...      2  lsh0ij   \n",
       "2  Coronavirus variants could fuel Canada's third...      6  lohlle   \n",
       "3  Canadian government to extend COVID-19 emergen...      1  lnptv8   \n",
       "4  Canada: Pfizer is 'extremely committed' to mee...      6  lkslm6   \n",
       "\n",
       "                                                 url  comms_num       created  \\\n",
       "0  https://www.canadaforums.ca/2021/02/health-can...          0  1.614400e+09   \n",
       "1  https://www.canadaforums.ca/2021/02/covid-19-i...          1  1.614316e+09   \n",
       "2  https://www.canadaforums.ca/2021/02/coronaviru...          0  1.613887e+09   \n",
       "3  https://www.canadaforums.ca/2021/02/canadian-g...          0  1.613796e+09   \n",
       "4  https://www.canadaforums.ca/2021/02/canada-pfi...          0  1.613468e+09   \n",
       "\n",
       "  body            timestamp  \n",
       "0  NaN  2021-02-27 06:33:45  \n",
       "1  NaN  2021-02-26 07:11:07  \n",
       "2  NaN  2021-02-21 07:50:08  \n",
       "3  NaN  2021-02-20 06:35:13  \n",
       "4  NaN  2021-02-16 11:36:28  "
      ]
     },
     "execution_count": 1,
     "metadata": {},
     "output_type": "execute_result"
    }
   ],
   "source": [
    "import numpy as np # linear algebra\n",
    "import pandas as pd # data processing, CSV file I/O (e.g. pd.read_csv)\n",
    "\n",
    "# Input data files are available in the read-only \"../input/\" directory\n",
    "# For example, running this (by clicking run or pressing Shift+Enter) will list all files under the input directory\n",
    "\n",
    "import os\n",
    "for dirname, _, filenames in os.walk('/kaggle/input'):\n",
    "    for filename in filenames:\n",
    "        print(os.path.join(dirname, filename))\n",
    "        \n",
    "df = pd.read_csv(\"/kaggle/input/reddit-vaccine-myths/reddit_vm.csv\")\n",
    "\n",
    "df.head()"
   ]
  },
  {
   "cell_type": "code",
   "execution_count": 2,
   "id": "970e077f",
   "metadata": {
    "_cell_guid": "18454873-3082-463f-adeb-a615efb57e1b",
    "_uuid": "8ce05e0f-64e2-4405-a91a-e38b1878530a",
    "collapsed": false,
    "execution": {
     "iopub.execute_input": "2022-03-21T08:02:34.732709Z",
     "iopub.status.busy": "2022-03-21T08:02:34.732109Z",
     "iopub.status.idle": "2022-03-21T08:02:34.758595Z",
     "shell.execute_reply": "2022-03-21T08:02:34.759185Z",
     "shell.execute_reply.started": "2022-03-19T14:09:04.89297Z"
    },
    "jupyter": {
     "outputs_hidden": false
    },
    "papermill": {
     "duration": 0.064614,
     "end_time": "2022-03-21T08:02:34.759346",
     "exception": false,
     "start_time": "2022-03-21T08:02:34.694732",
     "status": "completed"
    },
    "tags": []
   },
   "outputs": [
    {
     "data": {
      "text/html": [
       "<div>\n",
       "<style scoped>\n",
       "    .dataframe tbody tr th:only-of-type {\n",
       "        vertical-align: middle;\n",
       "    }\n",
       "\n",
       "    .dataframe tbody tr th {\n",
       "        vertical-align: top;\n",
       "    }\n",
       "\n",
       "    .dataframe thead th {\n",
       "        text-align: right;\n",
       "    }\n",
       "</style>\n",
       "<table border=\"1\" class=\"dataframe\">\n",
       "  <thead>\n",
       "    <tr style=\"text-align: right;\">\n",
       "      <th></th>\n",
       "      <th>score</th>\n",
       "      <th>comms_num</th>\n",
       "      <th>created</th>\n",
       "    </tr>\n",
       "  </thead>\n",
       "  <tbody>\n",
       "    <tr>\n",
       "      <th>count</th>\n",
       "      <td>1602.000000</td>\n",
       "      <td>1602.000000</td>\n",
       "      <td>1.602000e+03</td>\n",
       "    </tr>\n",
       "    <tr>\n",
       "      <th>mean</th>\n",
       "      <td>3.686642</td>\n",
       "      <td>1.838951</td>\n",
       "      <td>1.547197e+09</td>\n",
       "    </tr>\n",
       "    <tr>\n",
       "      <th>std</th>\n",
       "      <td>29.915671</td>\n",
       "      <td>16.115147</td>\n",
       "      <td>7.099511e+07</td>\n",
       "    </tr>\n",
       "    <tr>\n",
       "      <th>min</th>\n",
       "      <td>-12.000000</td>\n",
       "      <td>0.000000</td>\n",
       "      <td>1.389595e+09</td>\n",
       "    </tr>\n",
       "    <tr>\n",
       "      <th>25%</th>\n",
       "      <td>1.000000</td>\n",
       "      <td>0.000000</td>\n",
       "      <td>1.554367e+09</td>\n",
       "    </tr>\n",
       "    <tr>\n",
       "      <th>50%</th>\n",
       "      <td>1.000000</td>\n",
       "      <td>0.000000</td>\n",
       "      <td>1.569226e+09</td>\n",
       "    </tr>\n",
       "    <tr>\n",
       "      <th>75%</th>\n",
       "      <td>3.000000</td>\n",
       "      <td>1.000000</td>\n",
       "      <td>1.584901e+09</td>\n",
       "    </tr>\n",
       "    <tr>\n",
       "      <th>max</th>\n",
       "      <td>1187.000000</td>\n",
       "      <td>595.000000</td>\n",
       "      <td>1.640822e+09</td>\n",
       "    </tr>\n",
       "  </tbody>\n",
       "</table>\n",
       "</div>"
      ],
      "text/plain": [
       "             score    comms_num       created\n",
       "count  1602.000000  1602.000000  1.602000e+03\n",
       "mean      3.686642     1.838951  1.547197e+09\n",
       "std      29.915671    16.115147  7.099511e+07\n",
       "min     -12.000000     0.000000  1.389595e+09\n",
       "25%       1.000000     0.000000  1.554367e+09\n",
       "50%       1.000000     0.000000  1.569226e+09\n",
       "75%       3.000000     1.000000  1.584901e+09\n",
       "max    1187.000000   595.000000  1.640822e+09"
      ]
     },
     "execution_count": 2,
     "metadata": {},
     "output_type": "execute_result"
    }
   ],
   "source": [
    "df.describe()"
   ]
  },
  {
   "cell_type": "code",
   "execution_count": 3,
   "id": "d639ecec",
   "metadata": {
    "_cell_guid": "70ba722d-bac6-4e24-a4b7-41d5a7ea5c5e",
    "_uuid": "555ff42b-5fb6-4da2-ad18-2601d8ed48b4",
    "collapsed": false,
    "execution": {
     "iopub.execute_input": "2022-03-21T08:02:34.837712Z",
     "iopub.status.busy": "2022-03-21T08:02:34.837201Z",
     "iopub.status.idle": "2022-03-21T08:02:34.842811Z",
     "shell.execute_reply": "2022-03-21T08:02:34.842327Z",
     "shell.execute_reply.started": "2022-03-19T14:09:04.932543Z"
    },
    "jupyter": {
     "outputs_hidden": false
    },
    "papermill": {
     "duration": 0.044835,
     "end_time": "2022-03-21T08:02:34.842952",
     "exception": false,
     "start_time": "2022-03-21T08:02:34.798117",
     "status": "completed"
    },
    "tags": []
   },
   "outputs": [
    {
     "data": {
      "text/plain": [
       "Index(['title', 'score', 'id', 'url', 'comms_num', 'created', 'body',\n",
       "       'timestamp'],\n",
       "      dtype='object')"
      ]
     },
     "execution_count": 3,
     "metadata": {},
     "output_type": "execute_result"
    }
   ],
   "source": [
    "df.columns"
   ]
  },
  {
   "cell_type": "code",
   "execution_count": 4,
   "id": "09ebcb77",
   "metadata": {
    "_cell_guid": "8b97ae20-2a3d-4b8d-8e4f-1abf343f3ca7",
    "_uuid": "68f42bb9-4674-4203-89b1-0a0d5504d53e",
    "collapsed": false,
    "execution": {
     "iopub.execute_input": "2022-03-21T08:02:34.920762Z",
     "iopub.status.busy": "2022-03-21T08:02:34.920171Z",
     "iopub.status.idle": "2022-03-21T08:02:34.923017Z",
     "shell.execute_reply": "2022-03-21T08:02:34.923511Z",
     "shell.execute_reply.started": "2022-03-19T14:09:04.941857Z"
    },
    "jupyter": {
     "outputs_hidden": false
    },
    "papermill": {
     "duration": 0.04541,
     "end_time": "2022-03-21T08:02:34.923673",
     "exception": false,
     "start_time": "2022-03-21T08:02:34.878263",
     "status": "completed"
    },
    "tags": []
   },
   "outputs": [
    {
     "data": {
      "text/plain": [
       "376"
      ]
     },
     "execution_count": 4,
     "metadata": {},
     "output_type": "execute_result"
    }
   ],
   "source": [
    "pd.isnull(df['body']).sum()"
   ]
  },
  {
   "cell_type": "code",
   "execution_count": 5,
   "id": "a640c768",
   "metadata": {
    "_cell_guid": "7c988149-282c-4543-895a-2bef9f443c9f",
    "_uuid": "dc784ea2-ad2a-46f5-917c-d61618f6e189",
    "collapsed": false,
    "execution": {
     "iopub.execute_input": "2022-03-21T08:02:35.002179Z",
     "iopub.status.busy": "2022-03-21T08:02:35.001329Z",
     "iopub.status.idle": "2022-03-21T08:02:35.016682Z",
     "shell.execute_reply": "2022-03-21T08:02:35.017160Z",
     "shell.execute_reply.started": "2022-03-19T14:09:04.955728Z"
    },
    "jupyter": {
     "outputs_hidden": false
    },
    "papermill": {
     "duration": 0.055848,
     "end_time": "2022-03-21T08:02:35.017312",
     "exception": false,
     "start_time": "2022-03-21T08:02:34.961464",
     "status": "completed"
    },
    "tags": []
   },
   "outputs": [
    {
     "data": {
      "text/html": [
       "<div>\n",
       "<style scoped>\n",
       "    .dataframe tbody tr th:only-of-type {\n",
       "        vertical-align: middle;\n",
       "    }\n",
       "\n",
       "    .dataframe tbody tr th {\n",
       "        vertical-align: top;\n",
       "    }\n",
       "\n",
       "    .dataframe thead th {\n",
       "        text-align: right;\n",
       "    }\n",
       "</style>\n",
       "<table border=\"1\" class=\"dataframe\">\n",
       "  <thead>\n",
       "    <tr style=\"text-align: right;\">\n",
       "      <th></th>\n",
       "      <th>title</th>\n",
       "      <th>score</th>\n",
       "      <th>id</th>\n",
       "      <th>url</th>\n",
       "      <th>comms_num</th>\n",
       "      <th>created</th>\n",
       "      <th>body</th>\n",
       "      <th>timestamp</th>\n",
       "    </tr>\n",
       "  </thead>\n",
       "  <tbody>\n",
       "    <tr>\n",
       "      <th>7</th>\n",
       "      <td>Fuck you anti-vaxxing retards</td>\n",
       "      <td>10</td>\n",
       "      <td>g6jkhp</td>\n",
       "      <td>https://www.reddit.com/r/VaccineMyths/comments...</td>\n",
       "      <td>8</td>\n",
       "      <td>1.587663e+09</td>\n",
       "      <td>https://youtu.be/zBkVCpbNnkU</td>\n",
       "      <td>2020-04-23 20:23:42</td>\n",
       "    </tr>\n",
       "    <tr>\n",
       "      <th>119</th>\n",
       "      <td>Is it biologically possible to insert a 5G tra...</td>\n",
       "      <td>9</td>\n",
       "      <td>khzpug</td>\n",
       "      <td>https://www.reddit.com/r/VaccineMyths/comments...</td>\n",
       "      <td>9</td>\n",
       "      <td>1.608647e+09</td>\n",
       "      <td>Although I don't believe this to be true about...</td>\n",
       "      <td>2020-12-22 16:19:39</td>\n",
       "    </tr>\n",
       "    <tr>\n",
       "      <th>134</th>\n",
       "      <td>I don't see any reason to trust J&amp;J with a vac...</td>\n",
       "      <td>0</td>\n",
       "      <td>ocj9ws</td>\n",
       "      <td>https://www.reddit.com/r/VaccineMyths/comments...</td>\n",
       "      <td>4</td>\n",
       "      <td>1.625288e+09</td>\n",
       "      <td>**”…the company knew there was asbestos in pro...</td>\n",
       "      <td>2021-07-03 07:57:05</td>\n",
       "    </tr>\n",
       "    <tr>\n",
       "      <th>145</th>\n",
       "      <td>Vaccine Survey</td>\n",
       "      <td>0</td>\n",
       "      <td>ak5ziq</td>\n",
       "      <td>https://www.reddit.com/r/VaccineMyths/comments...</td>\n",
       "      <td>5</td>\n",
       "      <td>1.548543e+09</td>\n",
       "      <td>Hi guys! I was wondering if you could help me ...</td>\n",
       "      <td>2019-01-27 00:42:09</td>\n",
       "    </tr>\n",
       "    <tr>\n",
       "      <th>161</th>\n",
       "      <td>Can I have a rant please??</td>\n",
       "      <td>13</td>\n",
       "      <td>o6nqcm</td>\n",
       "      <td>https://www.reddit.com/r/VaccineMyths/comments...</td>\n",
       "      <td>1</td>\n",
       "      <td>1.624488e+09</td>\n",
       "      <td>Not sure if the sub allows this but I need to ...</td>\n",
       "      <td>2021-06-24 01:35:24</td>\n",
       "    </tr>\n",
       "  </tbody>\n",
       "</table>\n",
       "</div>"
      ],
      "text/plain": [
       "                                                 title  score      id  \\\n",
       "7                        Fuck you anti-vaxxing retards     10  g6jkhp   \n",
       "119  Is it biologically possible to insert a 5G tra...      9  khzpug   \n",
       "134  I don't see any reason to trust J&J with a vac...      0  ocj9ws   \n",
       "145                                     Vaccine Survey      0  ak5ziq   \n",
       "161                         Can I have a rant please??     13  o6nqcm   \n",
       "\n",
       "                                                   url  comms_num  \\\n",
       "7    https://www.reddit.com/r/VaccineMyths/comments...          8   \n",
       "119  https://www.reddit.com/r/VaccineMyths/comments...          9   \n",
       "134  https://www.reddit.com/r/VaccineMyths/comments...          4   \n",
       "145  https://www.reddit.com/r/VaccineMyths/comments...          5   \n",
       "161  https://www.reddit.com/r/VaccineMyths/comments...          1   \n",
       "\n",
       "          created                                               body  \\\n",
       "7    1.587663e+09                       https://youtu.be/zBkVCpbNnkU   \n",
       "119  1.608647e+09  Although I don't believe this to be true about...   \n",
       "134  1.625288e+09  **”…the company knew there was asbestos in pro...   \n",
       "145  1.548543e+09  Hi guys! I was wondering if you could help me ...   \n",
       "161  1.624488e+09  Not sure if the sub allows this but I need to ...   \n",
       "\n",
       "               timestamp  \n",
       "7    2020-04-23 20:23:42  \n",
       "119  2020-12-22 16:19:39  \n",
       "134  2021-07-03 07:57:05  \n",
       "145  2019-01-27 00:42:09  \n",
       "161  2021-06-24 01:35:24  "
      ]
     },
     "execution_count": 5,
     "metadata": {},
     "output_type": "execute_result"
    }
   ],
   "source": [
    "df = df.dropna()\n",
    "\n",
    "df.head()"
   ]
  },
  {
   "cell_type": "code",
   "execution_count": 6,
   "id": "2cda66da",
   "metadata": {
    "_cell_guid": "b34abafa-fd2f-44e3-92c6-2f16de81f650",
    "_uuid": "2453dcac-8cc5-4550-854b-e4d2e6c0662b",
    "collapsed": false,
    "execution": {
     "iopub.execute_input": "2022-03-21T08:02:35.095770Z",
     "iopub.status.busy": "2022-03-21T08:02:35.094922Z",
     "iopub.status.idle": "2022-03-21T08:02:35.099281Z",
     "shell.execute_reply": "2022-03-21T08:02:35.099697Z",
     "shell.execute_reply.started": "2022-03-19T14:09:04.979993Z"
    },
    "jupyter": {
     "outputs_hidden": false
    },
    "papermill": {
     "duration": 0.04442,
     "end_time": "2022-03-21T08:02:35.099848",
     "exception": false,
     "start_time": "2022-03-21T08:02:35.055428",
     "status": "completed"
    },
    "tags": []
   },
   "outputs": [
    {
     "data": {
      "text/plain": [
       "93"
      ]
     },
     "execution_count": 6,
     "metadata": {},
     "output_type": "execute_result"
    }
   ],
   "source": [
    "len(df)"
   ]
  },
  {
   "cell_type": "code",
   "execution_count": 7,
   "id": "ec6b47d0",
   "metadata": {
    "_cell_guid": "17d16c18-8546-489b-848d-6611e972f527",
    "_uuid": "04c0c595-de0a-4a38-ae8d-335999953a1e",
    "collapsed": false,
    "execution": {
     "iopub.execute_input": "2022-03-21T08:02:35.182282Z",
     "iopub.status.busy": "2022-03-21T08:02:35.181357Z",
     "iopub.status.idle": "2022-03-21T08:02:35.184628Z",
     "shell.execute_reply": "2022-03-21T08:02:35.185249Z",
     "shell.execute_reply.started": "2022-03-19T14:09:04.986681Z"
    },
    "jupyter": {
     "outputs_hidden": false
    },
    "papermill": {
     "duration": 0.047488,
     "end_time": "2022-03-21T08:02:35.185407",
     "exception": false,
     "start_time": "2022-03-21T08:02:35.137919",
     "status": "completed"
    },
    "tags": []
   },
   "outputs": [
    {
     "data": {
      "text/plain": [
       "7                           https://youtu.be/zBkVCpbNnkU\n",
       "119    Although I don't believe this to be true about...\n",
       "134    **”…the company knew there was asbestos in pro...\n",
       "145    Hi guys! I was wondering if you could help me ...\n",
       "161    Not sure if the sub allows this but I need to ...\n",
       "Name: body, dtype: object"
      ]
     },
     "execution_count": 7,
     "metadata": {},
     "output_type": "execute_result"
    }
   ],
   "source": [
    "df.head()['body']"
   ]
  },
  {
   "cell_type": "code",
   "execution_count": 8,
   "id": "718f9825",
   "metadata": {
    "_cell_guid": "4cb23a4a-5fb3-4383-8d8a-d49ccdb58942",
    "_uuid": "cab0f956-5d39-4d58-9dce-5bfc6f4582f2",
    "collapsed": false,
    "execution": {
     "iopub.execute_input": "2022-03-21T08:02:35.273261Z",
     "iopub.status.busy": "2022-03-21T08:02:35.272511Z",
     "iopub.status.idle": "2022-03-21T08:02:35.275401Z",
     "shell.execute_reply": "2022-03-21T08:02:35.275852Z",
     "shell.execute_reply.started": "2022-03-19T14:09:05.004315Z"
    },
    "jupyter": {
     "outputs_hidden": false
    },
    "papermill": {
     "duration": 0.052851,
     "end_time": "2022-03-21T08:02:35.276001",
     "exception": false,
     "start_time": "2022-03-21T08:02:35.223150",
     "status": "completed"
    },
    "tags": []
   },
   "outputs": [
    {
     "data": {
      "text/html": [
       "<div>\n",
       "<style scoped>\n",
       "    .dataframe tbody tr th:only-of-type {\n",
       "        vertical-align: middle;\n",
       "    }\n",
       "\n",
       "    .dataframe tbody tr th {\n",
       "        vertical-align: top;\n",
       "    }\n",
       "\n",
       "    .dataframe thead th {\n",
       "        text-align: right;\n",
       "    }\n",
       "</style>\n",
       "<table border=\"1\" class=\"dataframe\">\n",
       "  <thead>\n",
       "    <tr style=\"text-align: right;\">\n",
       "      <th></th>\n",
       "      <th>title</th>\n",
       "      <th>score</th>\n",
       "      <th>id</th>\n",
       "      <th>url</th>\n",
       "      <th>comms_num</th>\n",
       "      <th>created</th>\n",
       "      <th>body</th>\n",
       "      <th>timestamp</th>\n",
       "    </tr>\n",
       "  </thead>\n",
       "  <tbody>\n",
       "    <tr>\n",
       "      <th>0</th>\n",
       "      <td>Fuck you anti-vaxxing retards</td>\n",
       "      <td>10</td>\n",
       "      <td>g6jkhp</td>\n",
       "      <td>https://www.reddit.com/r/VaccineMyths/comments...</td>\n",
       "      <td>8</td>\n",
       "      <td>1.587663e+09</td>\n",
       "      <td>https://youtu.be/zBkVCpbNnkU</td>\n",
       "      <td>2020-04-23 20:23:42</td>\n",
       "    </tr>\n",
       "    <tr>\n",
       "      <th>1</th>\n",
       "      <td>Is it biologically possible to insert a 5G tra...</td>\n",
       "      <td>9</td>\n",
       "      <td>khzpug</td>\n",
       "      <td>https://www.reddit.com/r/VaccineMyths/comments...</td>\n",
       "      <td>9</td>\n",
       "      <td>1.608647e+09</td>\n",
       "      <td>Although I don't believe this to be true about...</td>\n",
       "      <td>2020-12-22 16:19:39</td>\n",
       "    </tr>\n",
       "    <tr>\n",
       "      <th>2</th>\n",
       "      <td>I don't see any reason to trust J&amp;J with a vac...</td>\n",
       "      <td>0</td>\n",
       "      <td>ocj9ws</td>\n",
       "      <td>https://www.reddit.com/r/VaccineMyths/comments...</td>\n",
       "      <td>4</td>\n",
       "      <td>1.625288e+09</td>\n",
       "      <td>**”…the company knew there was asbestos in pro...</td>\n",
       "      <td>2021-07-03 07:57:05</td>\n",
       "    </tr>\n",
       "    <tr>\n",
       "      <th>3</th>\n",
       "      <td>Vaccine Survey</td>\n",
       "      <td>0</td>\n",
       "      <td>ak5ziq</td>\n",
       "      <td>https://www.reddit.com/r/VaccineMyths/comments...</td>\n",
       "      <td>5</td>\n",
       "      <td>1.548543e+09</td>\n",
       "      <td>Hi guys! I was wondering if you could help me ...</td>\n",
       "      <td>2019-01-27 00:42:09</td>\n",
       "    </tr>\n",
       "    <tr>\n",
       "      <th>4</th>\n",
       "      <td>Can I have a rant please??</td>\n",
       "      <td>13</td>\n",
       "      <td>o6nqcm</td>\n",
       "      <td>https://www.reddit.com/r/VaccineMyths/comments...</td>\n",
       "      <td>1</td>\n",
       "      <td>1.624488e+09</td>\n",
       "      <td>Not sure if the sub allows this but I need to ...</td>\n",
       "      <td>2021-06-24 01:35:24</td>\n",
       "    </tr>\n",
       "  </tbody>\n",
       "</table>\n",
       "</div>"
      ],
      "text/plain": [
       "                                               title  score      id  \\\n",
       "0                      Fuck you anti-vaxxing retards     10  g6jkhp   \n",
       "1  Is it biologically possible to insert a 5G tra...      9  khzpug   \n",
       "2  I don't see any reason to trust J&J with a vac...      0  ocj9ws   \n",
       "3                                     Vaccine Survey      0  ak5ziq   \n",
       "4                         Can I have a rant please??     13  o6nqcm   \n",
       "\n",
       "                                                 url  comms_num       created  \\\n",
       "0  https://www.reddit.com/r/VaccineMyths/comments...          8  1.587663e+09   \n",
       "1  https://www.reddit.com/r/VaccineMyths/comments...          9  1.608647e+09   \n",
       "2  https://www.reddit.com/r/VaccineMyths/comments...          4  1.625288e+09   \n",
       "3  https://www.reddit.com/r/VaccineMyths/comments...          5  1.548543e+09   \n",
       "4  https://www.reddit.com/r/VaccineMyths/comments...          1  1.624488e+09   \n",
       "\n",
       "                                                body            timestamp  \n",
       "0                       https://youtu.be/zBkVCpbNnkU  2020-04-23 20:23:42  \n",
       "1  Although I don't believe this to be true about...  2020-12-22 16:19:39  \n",
       "2  **”…the company knew there was asbestos in pro...  2021-07-03 07:57:05  \n",
       "3  Hi guys! I was wondering if you could help me ...  2019-01-27 00:42:09  \n",
       "4  Not sure if the sub allows this but I need to ...  2021-06-24 01:35:24  "
      ]
     },
     "execution_count": 8,
     "metadata": {},
     "output_type": "execute_result"
    }
   ],
   "source": [
    "df = df.reset_index(drop=True)\n",
    "\n",
    "df.head()"
   ]
  },
  {
   "cell_type": "code",
   "execution_count": 9,
   "id": "54dc769b",
   "metadata": {
    "_cell_guid": "52e7c6b7-5196-476b-a30e-4b728811e795",
    "_uuid": "a3ff9eb2-6c08-4a96-9692-74f4c06ad938",
    "collapsed": false,
    "execution": {
     "iopub.execute_input": "2022-03-21T08:02:35.354743Z",
     "iopub.status.busy": "2022-03-21T08:02:35.353848Z",
     "iopub.status.idle": "2022-03-21T08:02:36.792197Z",
     "shell.execute_reply": "2022-03-21T08:02:36.791663Z",
     "shell.execute_reply.started": "2022-03-19T14:09:05.02864Z"
    },
    "jupyter": {
     "outputs_hidden": false
    },
    "papermill": {
     "duration": 1.478738,
     "end_time": "2022-03-21T08:02:36.792338",
     "exception": false,
     "start_time": "2022-03-21T08:02:35.313600",
     "status": "completed"
    },
    "tags": []
   },
   "outputs": [],
   "source": [
    "from sklearn.feature_extraction.text import TfidfVectorizer\n",
    "from nltk.tokenize.casual import casual_tokenize"
   ]
  },
  {
   "cell_type": "code",
   "execution_count": 10,
   "id": "ceb0a1f9",
   "metadata": {
    "_cell_guid": "81b6bd1a-9aeb-4b10-ac09-c4faf29c81c8",
    "_uuid": "cb052eea-24e8-454b-ad04-c0e85b186c95",
    "collapsed": false,
    "execution": {
     "iopub.execute_input": "2022-03-21T08:02:36.897846Z",
     "iopub.status.busy": "2022-03-21T08:02:36.891688Z",
     "iopub.status.idle": "2022-03-21T08:02:36.987177Z",
     "shell.execute_reply": "2022-03-21T08:02:36.986667Z",
     "shell.execute_reply.started": "2022-03-19T14:09:06.745673Z"
    },
    "jupyter": {
     "outputs_hidden": false
    },
    "papermill": {
     "duration": 0.153649,
     "end_time": "2022-03-21T08:02:36.987346",
     "exception": false,
     "start_time": "2022-03-21T08:02:36.833697",
     "status": "completed"
    },
    "tags": []
   },
   "outputs": [],
   "source": [
    "tfidf = TfidfVectorizer(tokenizer=casual_tokenize)\n",
    "tfidf_docs = tfidf.fit_transform(df.body).toarray()"
   ]
  },
  {
   "cell_type": "code",
   "execution_count": 11,
   "id": "4d22a533",
   "metadata": {
    "_cell_guid": "07a60632-cb7c-4734-bc09-6b86926c1196",
    "_uuid": "98de0b6f-4e89-4bd7-8cad-8b0997144977",
    "collapsed": false,
    "execution": {
     "iopub.execute_input": "2022-03-21T08:02:37.071106Z",
     "iopub.status.busy": "2022-03-21T08:02:37.070110Z",
     "iopub.status.idle": "2022-03-21T08:02:37.074210Z",
     "shell.execute_reply": "2022-03-21T08:02:37.073576Z",
     "shell.execute_reply.started": "2022-03-19T14:09:06.864149Z"
    },
    "jupyter": {
     "outputs_hidden": false
    },
    "papermill": {
     "duration": 0.048933,
     "end_time": "2022-03-21T08:02:37.074343",
     "exception": false,
     "start_time": "2022-03-21T08:02:37.025410",
     "status": "completed"
    },
    "tags": []
   },
   "outputs": [
    {
     "data": {
      "text/plain": [
       "93"
      ]
     },
     "execution_count": 11,
     "metadata": {},
     "output_type": "execute_result"
    }
   ],
   "source": [
    "len(tfidf_docs)"
   ]
  },
  {
   "cell_type": "code",
   "execution_count": 12,
   "id": "e6ae7a4c",
   "metadata": {
    "_cell_guid": "d8beb394-ed20-4815-aff1-7380fc91c6aa",
    "_uuid": "38a9dfb4-92fd-4a64-9f57-71eabe5d602d",
    "collapsed": false,
    "execution": {
     "iopub.execute_input": "2022-03-21T08:02:37.157941Z",
     "iopub.status.busy": "2022-03-21T08:02:37.157358Z",
     "iopub.status.idle": "2022-03-21T08:02:37.160916Z",
     "shell.execute_reply": "2022-03-21T08:02:37.161415Z",
     "shell.execute_reply.started": "2022-03-19T14:09:06.871437Z"
    },
    "jupyter": {
     "outputs_hidden": false
    },
    "papermill": {
     "duration": 0.048216,
     "end_time": "2022-03-21T08:02:37.161561",
     "exception": false,
     "start_time": "2022-03-21T08:02:37.113345",
     "status": "completed"
    },
    "tags": []
   },
   "outputs": [
    {
     "data": {
      "text/plain": [
       "array([[0.        , 0.        , 0.        , ..., 0.        , 0.        ,\n",
       "        0.        ],\n",
       "       [0.        , 0.        , 0.        , ..., 0.        , 0.        ,\n",
       "        0.        ],\n",
       "       [0.        , 0.        , 0.        , ..., 0.        , 0.        ,\n",
       "        0.        ],\n",
       "       ...,\n",
       "       [0.        , 0.        , 0.        , ..., 0.        , 0.        ,\n",
       "        0.        ],\n",
       "       [0.        , 0.10318017, 0.        , ..., 0.        , 0.        ,\n",
       "        0.        ],\n",
       "       [0.08889355, 0.        , 0.        , ..., 0.        , 0.        ,\n",
       "        0.        ]])"
      ]
     },
     "execution_count": 12,
     "metadata": {},
     "output_type": "execute_result"
    }
   ],
   "source": [
    "tfidf_docs"
   ]
  },
  {
   "cell_type": "code",
   "execution_count": 13,
   "id": "2696bad4",
   "metadata": {
    "_cell_guid": "5031ecec-cd24-4121-9a55-e20d6ea095ab",
    "_uuid": "266d9003-f527-489a-9f18-cc36406e377f",
    "collapsed": false,
    "execution": {
     "iopub.execute_input": "2022-03-21T08:02:37.245255Z",
     "iopub.status.busy": "2022-03-21T08:02:37.244595Z",
     "iopub.status.idle": "2022-03-21T08:02:37.248549Z",
     "shell.execute_reply": "2022-03-21T08:02:37.249006Z",
     "shell.execute_reply.started": "2022-03-19T14:09:06.884704Z"
    },
    "jupyter": {
     "outputs_hidden": false
    },
    "papermill": {
     "duration": 0.047161,
     "end_time": "2022-03-21T08:02:37.249186",
     "exception": false,
     "start_time": "2022-03-21T08:02:37.202025",
     "status": "completed"
    },
    "tags": []
   },
   "outputs": [
    {
     "data": {
      "text/plain": [
       "(93, 2928)"
      ]
     },
     "execution_count": 13,
     "metadata": {},
     "output_type": "execute_result"
    }
   ],
   "source": [
    "tfidf_docs.shape"
   ]
  },
  {
   "cell_type": "code",
   "execution_count": 14,
   "id": "00af1706",
   "metadata": {
    "_cell_guid": "8402e85b-209a-4759-a666-3f9496d03d87",
    "_uuid": "36c7e2ea-f63d-4d7f-af4b-19c706910252",
    "collapsed": false,
    "execution": {
     "iopub.execute_input": "2022-03-21T08:02:37.333553Z",
     "iopub.status.busy": "2022-03-21T08:02:37.332966Z",
     "iopub.status.idle": "2022-03-21T08:02:37.337271Z",
     "shell.execute_reply": "2022-03-21T08:02:37.337704Z",
     "shell.execute_reply.started": "2022-03-19T14:09:06.898145Z"
    },
    "jupyter": {
     "outputs_hidden": false
    },
    "papermill": {
     "duration": 0.047854,
     "end_time": "2022-03-21T08:02:37.337858",
     "exception": false,
     "start_time": "2022-03-21T08:02:37.290004",
     "status": "completed"
    },
    "tags": []
   },
   "outputs": [
    {
     "data": {
      "text/plain": [
       "2928"
      ]
     },
     "execution_count": 14,
     "metadata": {},
     "output_type": "execute_result"
    }
   ],
   "source": [
    "len(tfidf.vocabulary_)"
   ]
  },
  {
   "cell_type": "code",
   "execution_count": 15,
   "id": "bc63ad2c",
   "metadata": {
    "_cell_guid": "98115777-ae6a-4d9a-9ca6-654fed6c6988",
    "_uuid": "2fd3cef4-fa3c-4e5e-8180-e3a082c2d711",
    "collapsed": false,
    "execution": {
     "iopub.execute_input": "2022-03-21T08:02:37.447453Z",
     "iopub.status.busy": "2022-03-21T08:02:37.430968Z",
     "iopub.status.idle": "2022-03-21T08:02:37.450859Z",
     "shell.execute_reply": "2022-03-21T08:02:37.450418Z",
     "shell.execute_reply.started": "2022-03-19T14:09:06.911193Z"
    },
    "jupyter": {
     "outputs_hidden": false
    },
    "papermill": {
     "duration": 0.072043,
     "end_time": "2022-03-21T08:02:37.450985",
     "exception": false,
     "start_time": "2022-03-21T08:02:37.378942",
     "status": "completed"
    },
    "tags": []
   },
   "outputs": [
    {
     "data": {
      "text/html": [
       "<div>\n",
       "<style scoped>\n",
       "    .dataframe tbody tr th:only-of-type {\n",
       "        vertical-align: middle;\n",
       "    }\n",
       "\n",
       "    .dataframe tbody tr th {\n",
       "        vertical-align: top;\n",
       "    }\n",
       "\n",
       "    .dataframe thead th {\n",
       "        text-align: right;\n",
       "    }\n",
       "</style>\n",
       "<table border=\"1\" class=\"dataframe\">\n",
       "  <thead>\n",
       "    <tr style=\"text-align: right;\">\n",
       "      <th></th>\n",
       "      <th>0</th>\n",
       "      <th>1</th>\n",
       "      <th>2</th>\n",
       "      <th>3</th>\n",
       "      <th>4</th>\n",
       "      <th>5</th>\n",
       "      <th>6</th>\n",
       "      <th>7</th>\n",
       "      <th>8</th>\n",
       "      <th>9</th>\n",
       "      <th>...</th>\n",
       "      <th>2918</th>\n",
       "      <th>2919</th>\n",
       "      <th>2920</th>\n",
       "      <th>2921</th>\n",
       "      <th>2922</th>\n",
       "      <th>2923</th>\n",
       "      <th>2924</th>\n",
       "      <th>2925</th>\n",
       "      <th>2926</th>\n",
       "      <th>2927</th>\n",
       "    </tr>\n",
       "  </thead>\n",
       "  <tbody>\n",
       "    <tr>\n",
       "      <th>0</th>\n",
       "      <td>0.000000</td>\n",
       "      <td>0.000000</td>\n",
       "      <td>0.0</td>\n",
       "      <td>0.0</td>\n",
       "      <td>0.0</td>\n",
       "      <td>0.0</td>\n",
       "      <td>0.0</td>\n",
       "      <td>0.0</td>\n",
       "      <td>0.0</td>\n",
       "      <td>0.0</td>\n",
       "      <td>...</td>\n",
       "      <td>0.0</td>\n",
       "      <td>0.0</td>\n",
       "      <td>0.0</td>\n",
       "      <td>0.000000</td>\n",
       "      <td>0.000000</td>\n",
       "      <td>0.000000</td>\n",
       "      <td>0.0</td>\n",
       "      <td>0.0</td>\n",
       "      <td>0.0</td>\n",
       "      <td>0.0</td>\n",
       "    </tr>\n",
       "    <tr>\n",
       "      <th>1</th>\n",
       "      <td>0.000000</td>\n",
       "      <td>0.000000</td>\n",
       "      <td>0.0</td>\n",
       "      <td>0.0</td>\n",
       "      <td>0.0</td>\n",
       "      <td>0.0</td>\n",
       "      <td>0.0</td>\n",
       "      <td>0.0</td>\n",
       "      <td>0.0</td>\n",
       "      <td>0.0</td>\n",
       "      <td>...</td>\n",
       "      <td>0.0</td>\n",
       "      <td>0.0</td>\n",
       "      <td>0.0</td>\n",
       "      <td>0.000000</td>\n",
       "      <td>0.000000</td>\n",
       "      <td>0.000000</td>\n",
       "      <td>0.0</td>\n",
       "      <td>0.0</td>\n",
       "      <td>0.0</td>\n",
       "      <td>0.0</td>\n",
       "    </tr>\n",
       "    <tr>\n",
       "      <th>2</th>\n",
       "      <td>0.000000</td>\n",
       "      <td>0.000000</td>\n",
       "      <td>0.0</td>\n",
       "      <td>0.0</td>\n",
       "      <td>0.0</td>\n",
       "      <td>0.0</td>\n",
       "      <td>0.0</td>\n",
       "      <td>0.0</td>\n",
       "      <td>0.0</td>\n",
       "      <td>0.0</td>\n",
       "      <td>...</td>\n",
       "      <td>0.0</td>\n",
       "      <td>0.0</td>\n",
       "      <td>0.0</td>\n",
       "      <td>0.031168</td>\n",
       "      <td>0.062336</td>\n",
       "      <td>0.046647</td>\n",
       "      <td>0.0</td>\n",
       "      <td>0.0</td>\n",
       "      <td>0.0</td>\n",
       "      <td>0.0</td>\n",
       "    </tr>\n",
       "    <tr>\n",
       "      <th>3</th>\n",
       "      <td>0.208562</td>\n",
       "      <td>0.000000</td>\n",
       "      <td>0.0</td>\n",
       "      <td>0.0</td>\n",
       "      <td>0.0</td>\n",
       "      <td>0.0</td>\n",
       "      <td>0.0</td>\n",
       "      <td>0.0</td>\n",
       "      <td>0.0</td>\n",
       "      <td>0.0</td>\n",
       "      <td>...</td>\n",
       "      <td>0.0</td>\n",
       "      <td>0.0</td>\n",
       "      <td>0.0</td>\n",
       "      <td>0.000000</td>\n",
       "      <td>0.000000</td>\n",
       "      <td>0.000000</td>\n",
       "      <td>0.0</td>\n",
       "      <td>0.0</td>\n",
       "      <td>0.0</td>\n",
       "      <td>0.0</td>\n",
       "    </tr>\n",
       "    <tr>\n",
       "      <th>4</th>\n",
       "      <td>0.020552</td>\n",
       "      <td>0.277257</td>\n",
       "      <td>0.0</td>\n",
       "      <td>0.0</td>\n",
       "      <td>0.0</td>\n",
       "      <td>0.0</td>\n",
       "      <td>0.0</td>\n",
       "      <td>0.0</td>\n",
       "      <td>0.0</td>\n",
       "      <td>0.0</td>\n",
       "      <td>...</td>\n",
       "      <td>0.0</td>\n",
       "      <td>0.0</td>\n",
       "      <td>0.0</td>\n",
       "      <td>0.000000</td>\n",
       "      <td>0.000000</td>\n",
       "      <td>0.000000</td>\n",
       "      <td>0.0</td>\n",
       "      <td>0.0</td>\n",
       "      <td>0.0</td>\n",
       "      <td>0.0</td>\n",
       "    </tr>\n",
       "  </tbody>\n",
       "</table>\n",
       "<p>5 rows × 2928 columns</p>\n",
       "</div>"
      ],
      "text/plain": [
       "       0         1     2     3     4     5     6     7     8     9     ...  \\\n",
       "0  0.000000  0.000000   0.0   0.0   0.0   0.0   0.0   0.0   0.0   0.0  ...   \n",
       "1  0.000000  0.000000   0.0   0.0   0.0   0.0   0.0   0.0   0.0   0.0  ...   \n",
       "2  0.000000  0.000000   0.0   0.0   0.0   0.0   0.0   0.0   0.0   0.0  ...   \n",
       "3  0.208562  0.000000   0.0   0.0   0.0   0.0   0.0   0.0   0.0   0.0  ...   \n",
       "4  0.020552  0.277257   0.0   0.0   0.0   0.0   0.0   0.0   0.0   0.0  ...   \n",
       "\n",
       "   2918  2919  2920      2921      2922      2923  2924  2925  2926  2927  \n",
       "0   0.0   0.0   0.0  0.000000  0.000000  0.000000   0.0   0.0   0.0   0.0  \n",
       "1   0.0   0.0   0.0  0.000000  0.000000  0.000000   0.0   0.0   0.0   0.0  \n",
       "2   0.0   0.0   0.0  0.031168  0.062336  0.046647   0.0   0.0   0.0   0.0  \n",
       "3   0.0   0.0   0.0  0.000000  0.000000  0.000000   0.0   0.0   0.0   0.0  \n",
       "4   0.0   0.0   0.0  0.000000  0.000000  0.000000   0.0   0.0   0.0   0.0  \n",
       "\n",
       "[5 rows x 2928 columns]"
      ]
     },
     "execution_count": 15,
     "metadata": {},
     "output_type": "execute_result"
    }
   ],
   "source": [
    "tfidf_docs = pd.DataFrame(tfidf_docs)\n",
    "tfidf_docs.head()"
   ]
  },
  {
   "cell_type": "code",
   "execution_count": 16,
   "id": "48d6b794",
   "metadata": {
    "_cell_guid": "79ee4b39-af52-4fb2-9681-af9baa035038",
    "_uuid": "7ed77416-3261-43b8-b64e-ece9a4234840",
    "collapsed": false,
    "execution": {
     "iopub.execute_input": "2022-03-21T08:02:37.545500Z",
     "iopub.status.busy": "2022-03-21T08:02:37.544657Z",
     "iopub.status.idle": "2022-03-21T08:02:37.550967Z",
     "shell.execute_reply": "2022-03-21T08:02:37.550506Z",
     "shell.execute_reply.started": "2022-03-19T14:09:06.951926Z"
    },
    "jupyter": {
     "outputs_hidden": false
    },
    "papermill": {
     "duration": 0.058602,
     "end_time": "2022-03-21T08:02:37.551114",
     "exception": false,
     "start_time": "2022-03-21T08:02:37.492512",
     "status": "completed"
    },
    "tags": []
   },
   "outputs": [],
   "source": [
    "tfidf_docs = tfidf_docs - tfidf_docs.mean() # centers the BOW vectors by subtracting the mean"
   ]
  },
  {
   "cell_type": "code",
   "execution_count": 17,
   "id": "d823a048",
   "metadata": {
    "_cell_guid": "2065474f-5b1e-4051-865e-d43e0499999a",
    "_uuid": "dbf80f20-e07e-4ecc-ac99-3656b0e749d8",
    "collapsed": false,
    "execution": {
     "iopub.execute_input": "2022-03-21T08:02:37.634617Z",
     "iopub.status.busy": "2022-03-21T08:02:37.634047Z",
     "iopub.status.idle": "2022-03-21T08:02:37.653990Z",
     "shell.execute_reply": "2022-03-21T08:02:37.654465Z",
     "shell.execute_reply.started": "2022-03-19T14:09:06.971735Z"
    },
    "jupyter": {
     "outputs_hidden": false
    },
    "papermill": {
     "duration": 0.063096,
     "end_time": "2022-03-21T08:02:37.654609",
     "exception": false,
     "start_time": "2022-03-21T08:02:37.591513",
     "status": "completed"
    },
    "tags": []
   },
   "outputs": [
    {
     "data": {
      "text/html": [
       "<div>\n",
       "<style scoped>\n",
       "    .dataframe tbody tr th:only-of-type {\n",
       "        vertical-align: middle;\n",
       "    }\n",
       "\n",
       "    .dataframe tbody tr th {\n",
       "        vertical-align: top;\n",
       "    }\n",
       "\n",
       "    .dataframe thead th {\n",
       "        text-align: right;\n",
       "    }\n",
       "</style>\n",
       "<table border=\"1\" class=\"dataframe\">\n",
       "  <thead>\n",
       "    <tr style=\"text-align: right;\">\n",
       "      <th></th>\n",
       "      <th>0</th>\n",
       "      <th>1</th>\n",
       "      <th>2</th>\n",
       "      <th>3</th>\n",
       "      <th>4</th>\n",
       "      <th>5</th>\n",
       "      <th>6</th>\n",
       "      <th>7</th>\n",
       "      <th>8</th>\n",
       "      <th>9</th>\n",
       "      <th>...</th>\n",
       "      <th>2918</th>\n",
       "      <th>2919</th>\n",
       "      <th>2920</th>\n",
       "      <th>2921</th>\n",
       "      <th>2922</th>\n",
       "      <th>2923</th>\n",
       "      <th>2924</th>\n",
       "      <th>2925</th>\n",
       "      <th>2926</th>\n",
       "      <th>2927</th>\n",
       "    </tr>\n",
       "  </thead>\n",
       "  <tbody>\n",
       "    <tr>\n",
       "      <th>0</th>\n",
       "      <td>-0.027184</td>\n",
       "      <td>-0.032985</td>\n",
       "      <td>-0.001743</td>\n",
       "      <td>-0.001243</td>\n",
       "      <td>-0.001243</td>\n",
       "      <td>-0.001243</td>\n",
       "      <td>-0.001243</td>\n",
       "      <td>-0.001243</td>\n",
       "      <td>-0.001243</td>\n",
       "      <td>-0.001243</td>\n",
       "      <td>...</td>\n",
       "      <td>-0.000805</td>\n",
       "      <td>-0.004825</td>\n",
       "      <td>-0.044789</td>\n",
       "      <td>-0.004989</td>\n",
       "      <td>-0.005324</td>\n",
       "      <td>-0.000502</td>\n",
       "      <td>-0.000111</td>\n",
       "      <td>-0.006424</td>\n",
       "      <td>-0.006424</td>\n",
       "      <td>-0.003212</td>\n",
       "    </tr>\n",
       "    <tr>\n",
       "      <th>1</th>\n",
       "      <td>-0.027184</td>\n",
       "      <td>-0.032985</td>\n",
       "      <td>-0.001743</td>\n",
       "      <td>-0.001243</td>\n",
       "      <td>-0.001243</td>\n",
       "      <td>-0.001243</td>\n",
       "      <td>-0.001243</td>\n",
       "      <td>-0.001243</td>\n",
       "      <td>-0.001243</td>\n",
       "      <td>-0.001243</td>\n",
       "      <td>...</td>\n",
       "      <td>-0.000805</td>\n",
       "      <td>-0.004825</td>\n",
       "      <td>-0.044789</td>\n",
       "      <td>-0.004989</td>\n",
       "      <td>-0.005324</td>\n",
       "      <td>-0.000502</td>\n",
       "      <td>-0.000111</td>\n",
       "      <td>-0.006424</td>\n",
       "      <td>-0.006424</td>\n",
       "      <td>-0.003212</td>\n",
       "    </tr>\n",
       "    <tr>\n",
       "      <th>2</th>\n",
       "      <td>-0.027184</td>\n",
       "      <td>-0.032985</td>\n",
       "      <td>-0.001743</td>\n",
       "      <td>-0.001243</td>\n",
       "      <td>-0.001243</td>\n",
       "      <td>-0.001243</td>\n",
       "      <td>-0.001243</td>\n",
       "      <td>-0.001243</td>\n",
       "      <td>-0.001243</td>\n",
       "      <td>-0.001243</td>\n",
       "      <td>...</td>\n",
       "      <td>-0.000805</td>\n",
       "      <td>-0.004825</td>\n",
       "      <td>-0.044789</td>\n",
       "      <td>0.026179</td>\n",
       "      <td>0.057012</td>\n",
       "      <td>0.046145</td>\n",
       "      <td>-0.000111</td>\n",
       "      <td>-0.006424</td>\n",
       "      <td>-0.006424</td>\n",
       "      <td>-0.003212</td>\n",
       "    </tr>\n",
       "    <tr>\n",
       "      <th>3</th>\n",
       "      <td>0.181378</td>\n",
       "      <td>-0.032985</td>\n",
       "      <td>-0.001743</td>\n",
       "      <td>-0.001243</td>\n",
       "      <td>-0.001243</td>\n",
       "      <td>-0.001243</td>\n",
       "      <td>-0.001243</td>\n",
       "      <td>-0.001243</td>\n",
       "      <td>-0.001243</td>\n",
       "      <td>-0.001243</td>\n",
       "      <td>...</td>\n",
       "      <td>-0.000805</td>\n",
       "      <td>-0.004825</td>\n",
       "      <td>-0.044789</td>\n",
       "      <td>-0.004989</td>\n",
       "      <td>-0.005324</td>\n",
       "      <td>-0.000502</td>\n",
       "      <td>-0.000111</td>\n",
       "      <td>-0.006424</td>\n",
       "      <td>-0.006424</td>\n",
       "      <td>-0.003212</td>\n",
       "    </tr>\n",
       "    <tr>\n",
       "      <th>4</th>\n",
       "      <td>-0.006632</td>\n",
       "      <td>0.244273</td>\n",
       "      <td>-0.001743</td>\n",
       "      <td>-0.001243</td>\n",
       "      <td>-0.001243</td>\n",
       "      <td>-0.001243</td>\n",
       "      <td>-0.001243</td>\n",
       "      <td>-0.001243</td>\n",
       "      <td>-0.001243</td>\n",
       "      <td>-0.001243</td>\n",
       "      <td>...</td>\n",
       "      <td>-0.000805</td>\n",
       "      <td>-0.004825</td>\n",
       "      <td>-0.044789</td>\n",
       "      <td>-0.004989</td>\n",
       "      <td>-0.005324</td>\n",
       "      <td>-0.000502</td>\n",
       "      <td>-0.000111</td>\n",
       "      <td>-0.006424</td>\n",
       "      <td>-0.006424</td>\n",
       "      <td>-0.003212</td>\n",
       "    </tr>\n",
       "  </tbody>\n",
       "</table>\n",
       "<p>5 rows × 2928 columns</p>\n",
       "</div>"
      ],
      "text/plain": [
       "       0         1         2         3         4         5         6     \\\n",
       "0 -0.027184 -0.032985 -0.001743 -0.001243 -0.001243 -0.001243 -0.001243   \n",
       "1 -0.027184 -0.032985 -0.001743 -0.001243 -0.001243 -0.001243 -0.001243   \n",
       "2 -0.027184 -0.032985 -0.001743 -0.001243 -0.001243 -0.001243 -0.001243   \n",
       "3  0.181378 -0.032985 -0.001743 -0.001243 -0.001243 -0.001243 -0.001243   \n",
       "4 -0.006632  0.244273 -0.001743 -0.001243 -0.001243 -0.001243 -0.001243   \n",
       "\n",
       "       7         8         9     ...      2918      2919      2920      2921  \\\n",
       "0 -0.001243 -0.001243 -0.001243  ... -0.000805 -0.004825 -0.044789 -0.004989   \n",
       "1 -0.001243 -0.001243 -0.001243  ... -0.000805 -0.004825 -0.044789 -0.004989   \n",
       "2 -0.001243 -0.001243 -0.001243  ... -0.000805 -0.004825 -0.044789  0.026179   \n",
       "3 -0.001243 -0.001243 -0.001243  ... -0.000805 -0.004825 -0.044789 -0.004989   \n",
       "4 -0.001243 -0.001243 -0.001243  ... -0.000805 -0.004825 -0.044789 -0.004989   \n",
       "\n",
       "       2922      2923      2924      2925      2926      2927  \n",
       "0 -0.005324 -0.000502 -0.000111 -0.006424 -0.006424 -0.003212  \n",
       "1 -0.005324 -0.000502 -0.000111 -0.006424 -0.006424 -0.003212  \n",
       "2  0.057012  0.046145 -0.000111 -0.006424 -0.006424 -0.003212  \n",
       "3 -0.005324 -0.000502 -0.000111 -0.006424 -0.006424 -0.003212  \n",
       "4 -0.005324 -0.000502 -0.000111 -0.006424 -0.006424 -0.003212  \n",
       "\n",
       "[5 rows x 2928 columns]"
      ]
     },
     "execution_count": 17,
     "metadata": {},
     "output_type": "execute_result"
    }
   ],
   "source": [
    "tfidf_docs.head()"
   ]
  },
  {
   "cell_type": "code",
   "execution_count": 18,
   "id": "87d8caff",
   "metadata": {
    "_cell_guid": "95c6c832-9d20-4e89-a4af-8d12bef085af",
    "_uuid": "6ca97cee-6a00-4300-a831-2ffc64a3bcd6",
    "collapsed": false,
    "execution": {
     "iopub.execute_input": "2022-03-21T08:02:37.739835Z",
     "iopub.status.busy": "2022-03-21T08:02:37.739237Z",
     "iopub.status.idle": "2022-03-21T08:02:37.744387Z",
     "shell.execute_reply": "2022-03-21T08:02:37.744926Z",
     "shell.execute_reply.started": "2022-03-19T14:09:06.999376Z"
    },
    "jupyter": {
     "outputs_hidden": false
    },
    "papermill": {
     "duration": 0.049609,
     "end_time": "2022-03-21T08:02:37.745076",
     "exception": false,
     "start_time": "2022-03-21T08:02:37.695467",
     "status": "completed"
    },
    "tags": []
   },
   "outputs": [
    {
     "data": {
      "text/plain": [
       "(93, 2928)"
      ]
     },
     "execution_count": 18,
     "metadata": {},
     "output_type": "execute_result"
    }
   ],
   "source": [
    "tfidf_docs.shape"
   ]
  },
  {
   "cell_type": "markdown",
   "id": "d9720ab1",
   "metadata": {
    "_cell_guid": "1becfe1c-719b-4d08-b815-1b35572ba54a",
    "_uuid": "6974cdc8-e8f9-4491-9992-840de5299b86",
    "papermill": {
     "duration": 0.041262,
     "end_time": "2022-03-21T08:02:37.827710",
     "exception": false,
     "start_time": "2022-03-21T08:02:37.786448",
     "status": "completed"
    },
    "tags": []
   },
   "source": [
    "## Semantic Analysis using PCA"
   ]
  },
  {
   "cell_type": "code",
   "execution_count": 19,
   "id": "4ec85958",
   "metadata": {
    "_cell_guid": "7ebff8f5-c979-4547-b48f-fa82080f2f46",
    "_uuid": "bd97b22b-185c-418f-9a7e-2d829f4d70c8",
    "collapsed": false,
    "execution": {
     "iopub.execute_input": "2022-03-21T08:02:37.916116Z",
     "iopub.status.busy": "2022-03-21T08:02:37.914572Z",
     "iopub.status.idle": "2022-03-21T08:02:37.941394Z",
     "shell.execute_reply": "2022-03-21T08:02:37.941914Z",
     "shell.execute_reply.started": "2022-03-19T14:09:07.006239Z"
    },
    "jupyter": {
     "outputs_hidden": false
    },
    "papermill": {
     "duration": 0.073099,
     "end_time": "2022-03-21T08:02:37.942125",
     "exception": false,
     "start_time": "2022-03-21T08:02:37.869026",
     "status": "completed"
    },
    "tags": []
   },
   "outputs": [],
   "source": [
    "from sklearn.decomposition import PCA"
   ]
  },
  {
   "cell_type": "code",
   "execution_count": 20,
   "id": "dafcd581",
   "metadata": {
    "_cell_guid": "3f566b80-84e2-4db1-be41-ea5194ecc77c",
    "_uuid": "8d970b43-f4a5-4e2e-99e9-9b38eb0592f6",
    "collapsed": false,
    "execution": {
     "iopub.execute_input": "2022-03-21T08:02:38.028150Z",
     "iopub.status.busy": "2022-03-21T08:02:38.027600Z",
     "iopub.status.idle": "2022-03-21T08:02:38.190520Z",
     "shell.execute_reply": "2022-03-21T08:02:38.191334Z",
     "shell.execute_reply.started": "2022-03-19T14:09:07.047882Z"
    },
    "jupyter": {
     "outputs_hidden": false
    },
    "papermill": {
     "duration": 0.207632,
     "end_time": "2022-03-21T08:02:38.191582",
     "exception": false,
     "start_time": "2022-03-21T08:02:37.983950",
     "status": "completed"
    },
    "tags": []
   },
   "outputs": [],
   "source": [
    "pca = PCA(n_components=8)\n",
    "pca = pca.fit(tfidf_docs)\n",
    "pca_topic_vectors = pca.transform(tfidf_docs)"
   ]
  },
  {
   "cell_type": "code",
   "execution_count": 21,
   "id": "a48717d7",
   "metadata": {
    "_cell_guid": "9e5dd347-bed0-4517-a8ea-0a93696cf31b",
    "_uuid": "4eb2209a-4c8e-410a-9dc3-3852599a2dd8",
    "collapsed": false,
    "execution": {
     "iopub.execute_input": "2022-03-21T08:02:38.340758Z",
     "iopub.status.busy": "2022-03-21T08:02:38.339654Z",
     "iopub.status.idle": "2022-03-21T08:02:38.342313Z",
     "shell.execute_reply": "2022-03-21T08:02:38.341736Z",
     "shell.execute_reply.started": "2022-03-19T14:09:07.270742Z"
    },
    "jupyter": {
     "outputs_hidden": false
    },
    "papermill": {
     "duration": 0.061438,
     "end_time": "2022-03-21T08:02:38.342434",
     "exception": false,
     "start_time": "2022-03-21T08:02:38.280996",
     "status": "completed"
    },
    "tags": []
   },
   "outputs": [],
   "source": [
    "columns = ['topic{}'.format(i) for i in range(pca.n_components)]"
   ]
  },
  {
   "cell_type": "code",
   "execution_count": 22,
   "id": "82e1b20d",
   "metadata": {
    "_cell_guid": "122f8cd5-30c3-4f26-a3fd-19272240e6c6",
    "_uuid": "c573a18c-781c-40f7-a306-66ec2a2aaa1e",
    "collapsed": false,
    "execution": {
     "iopub.execute_input": "2022-03-21T08:02:38.428170Z",
     "iopub.status.busy": "2022-03-21T08:02:38.427267Z",
     "iopub.status.idle": "2022-03-21T08:02:38.444983Z",
     "shell.execute_reply": "2022-03-21T08:02:38.445501Z",
     "shell.execute_reply.started": "2022-03-19T14:09:07.280836Z"
    },
    "jupyter": {
     "outputs_hidden": false
    },
    "papermill": {
     "duration": 0.061781,
     "end_time": "2022-03-21T08:02:38.445646",
     "exception": false,
     "start_time": "2022-03-21T08:02:38.383865",
     "status": "completed"
    },
    "tags": []
   },
   "outputs": [
    {
     "data": {
      "text/html": [
       "<div>\n",
       "<style scoped>\n",
       "    .dataframe tbody tr th:only-of-type {\n",
       "        vertical-align: middle;\n",
       "    }\n",
       "\n",
       "    .dataframe tbody tr th {\n",
       "        vertical-align: top;\n",
       "    }\n",
       "\n",
       "    .dataframe thead th {\n",
       "        text-align: right;\n",
       "    }\n",
       "</style>\n",
       "<table border=\"1\" class=\"dataframe\">\n",
       "  <thead>\n",
       "    <tr style=\"text-align: right;\">\n",
       "      <th></th>\n",
       "      <th>topic0</th>\n",
       "      <th>topic1</th>\n",
       "      <th>topic2</th>\n",
       "      <th>topic3</th>\n",
       "      <th>topic4</th>\n",
       "      <th>topic5</th>\n",
       "      <th>topic6</th>\n",
       "      <th>topic7</th>\n",
       "    </tr>\n",
       "  </thead>\n",
       "  <tbody>\n",
       "    <tr>\n",
       "      <th>0</th>\n",
       "      <td>0.331</td>\n",
       "      <td>0.058</td>\n",
       "      <td>-0.015</td>\n",
       "      <td>-0.025</td>\n",
       "      <td>-0.044</td>\n",
       "      <td>-0.098</td>\n",
       "      <td>-0.092</td>\n",
       "      <td>-0.282</td>\n",
       "    </tr>\n",
       "    <tr>\n",
       "      <th>1</th>\n",
       "      <td>0.068</td>\n",
       "      <td>0.064</td>\n",
       "      <td>-0.054</td>\n",
       "      <td>-0.096</td>\n",
       "      <td>-0.097</td>\n",
       "      <td>-0.153</td>\n",
       "      <td>-0.163</td>\n",
       "      <td>0.081</td>\n",
       "    </tr>\n",
       "    <tr>\n",
       "      <th>2</th>\n",
       "      <td>0.246</td>\n",
       "      <td>-0.173</td>\n",
       "      <td>0.710</td>\n",
       "      <td>-0.309</td>\n",
       "      <td>-0.067</td>\n",
       "      <td>0.088</td>\n",
       "      <td>0.035</td>\n",
       "      <td>0.031</td>\n",
       "    </tr>\n",
       "    <tr>\n",
       "      <th>3</th>\n",
       "      <td>0.162</td>\n",
       "      <td>0.086</td>\n",
       "      <td>-0.040</td>\n",
       "      <td>0.166</td>\n",
       "      <td>-0.282</td>\n",
       "      <td>-0.003</td>\n",
       "      <td>0.250</td>\n",
       "      <td>0.203</td>\n",
       "    </tr>\n",
       "    <tr>\n",
       "      <th>4</th>\n",
       "      <td>-0.299</td>\n",
       "      <td>-0.035</td>\n",
       "      <td>-0.111</td>\n",
       "      <td>-0.093</td>\n",
       "      <td>0.003</td>\n",
       "      <td>-0.026</td>\n",
       "      <td>0.079</td>\n",
       "      <td>0.070</td>\n",
       "    </tr>\n",
       "    <tr>\n",
       "      <th>5</th>\n",
       "      <td>-0.242</td>\n",
       "      <td>0.004</td>\n",
       "      <td>-0.113</td>\n",
       "      <td>-0.119</td>\n",
       "      <td>0.010</td>\n",
       "      <td>0.068</td>\n",
       "      <td>0.073</td>\n",
       "      <td>-0.028</td>\n",
       "    </tr>\n",
       "    <tr>\n",
       "      <th>6</th>\n",
       "      <td>0.039</td>\n",
       "      <td>0.005</td>\n",
       "      <td>0.272</td>\n",
       "      <td>-0.217</td>\n",
       "      <td>-0.130</td>\n",
       "      <td>-0.086</td>\n",
       "      <td>0.118</td>\n",
       "      <td>0.159</td>\n",
       "    </tr>\n",
       "    <tr>\n",
       "      <th>7</th>\n",
       "      <td>-0.297</td>\n",
       "      <td>0.335</td>\n",
       "      <td>0.107</td>\n",
       "      <td>0.106</td>\n",
       "      <td>0.019</td>\n",
       "      <td>0.076</td>\n",
       "      <td>-0.231</td>\n",
       "      <td>0.209</td>\n",
       "    </tr>\n",
       "  </tbody>\n",
       "</table>\n",
       "</div>"
      ],
      "text/plain": [
       "   topic0  topic1  topic2  topic3  topic4  topic5  topic6  topic7\n",
       "0   0.331   0.058  -0.015  -0.025  -0.044  -0.098  -0.092  -0.282\n",
       "1   0.068   0.064  -0.054  -0.096  -0.097  -0.153  -0.163   0.081\n",
       "2   0.246  -0.173   0.710  -0.309  -0.067   0.088   0.035   0.031\n",
       "3   0.162   0.086  -0.040   0.166  -0.282  -0.003   0.250   0.203\n",
       "4  -0.299  -0.035  -0.111  -0.093   0.003  -0.026   0.079   0.070\n",
       "5  -0.242   0.004  -0.113  -0.119   0.010   0.068   0.073  -0.028\n",
       "6   0.039   0.005   0.272  -0.217  -0.130  -0.086   0.118   0.159\n",
       "7  -0.297   0.335   0.107   0.106   0.019   0.076  -0.231   0.209"
      ]
     },
     "execution_count": 22,
     "metadata": {},
     "output_type": "execute_result"
    }
   ],
   "source": [
    "pca_topic_vectors = pd.DataFrame(pca_topic_vectors, columns=columns)\n",
    "pca_topic_vectors.round(3).head(8)"
   ]
  },
  {
   "cell_type": "code",
   "execution_count": 23,
   "id": "4a0e61c6",
   "metadata": {
    "_cell_guid": "2a1e32e6-ed4c-4e6b-99d2-812b2ea2cbfe",
    "_uuid": "647daa1c-e282-419e-972e-d7cff77ffa70",
    "collapsed": false,
    "execution": {
     "iopub.execute_input": "2022-03-21T08:02:38.531976Z",
     "iopub.status.busy": "2022-03-21T08:02:38.531140Z",
     "iopub.status.idle": "2022-03-21T08:02:38.537479Z",
     "shell.execute_reply": "2022-03-21T08:02:38.537992Z",
     "shell.execute_reply.started": "2022-03-19T14:09:07.322387Z"
    },
    "jupyter": {
     "outputs_hidden": false
    },
    "papermill": {
     "duration": 0.050937,
     "end_time": "2022-03-21T08:02:38.538150",
     "exception": false,
     "start_time": "2022-03-21T08:02:38.487213",
     "status": "completed"
    },
    "tags": []
   },
   "outputs": [],
   "source": [
    "column_nums, terms = zip(*sorted(zip(tfidf.vocabulary_.values(), tfidf.vocabulary_.keys())))"
   ]
  },
  {
   "cell_type": "code",
   "execution_count": 24,
   "id": "1188f7bf",
   "metadata": {
    "execution": {
     "iopub.execute_input": "2022-03-21T08:02:38.624689Z",
     "iopub.status.busy": "2022-03-21T08:02:38.624175Z",
     "iopub.status.idle": "2022-03-21T08:02:38.628228Z",
     "shell.execute_reply": "2022-03-21T08:02:38.628759Z",
     "shell.execute_reply.started": "2022-03-19T14:09:07.336267Z"
    },
    "papermill": {
     "duration": 0.048866,
     "end_time": "2022-03-21T08:02:38.628903",
     "exception": false,
     "start_time": "2022-03-21T08:02:38.580037",
     "status": "completed"
    },
    "tags": []
   },
   "outputs": [
    {
     "data": {
      "text/plain": [
       "('!', '\"', '#', '#coronavaccine', '#coronavirus')"
      ]
     },
     "execution_count": 24,
     "metadata": {},
     "output_type": "execute_result"
    }
   ],
   "source": [
    "terms[:5]"
   ]
  },
  {
   "cell_type": "code",
   "execution_count": 25,
   "id": "0cda7722",
   "metadata": {
    "execution": {
     "iopub.execute_input": "2022-03-21T08:02:38.716649Z",
     "iopub.status.busy": "2022-03-21T08:02:38.716114Z",
     "iopub.status.idle": "2022-03-21T08:02:39.332467Z",
     "shell.execute_reply": "2022-03-21T08:02:39.332960Z",
     "shell.execute_reply.started": "2022-03-19T14:09:07.349479Z"
    },
    "papermill": {
     "duration": 0.661667,
     "end_time": "2022-03-21T08:02:39.333129",
     "exception": false,
     "start_time": "2022-03-21T08:02:38.671462",
     "status": "completed"
    },
    "tags": []
   },
   "outputs": [
    {
     "data": {
      "text/html": [
       "<div>\n",
       "<style scoped>\n",
       "    .dataframe tbody tr th:only-of-type {\n",
       "        vertical-align: middle;\n",
       "    }\n",
       "\n",
       "    .dataframe tbody tr th {\n",
       "        vertical-align: top;\n",
       "    }\n",
       "\n",
       "    .dataframe thead th {\n",
       "        text-align: right;\n",
       "    }\n",
       "</style>\n",
       "<table border=\"1\" class=\"dataframe\">\n",
       "  <thead>\n",
       "    <tr style=\"text-align: right;\">\n",
       "      <th></th>\n",
       "      <th>!</th>\n",
       "      <th>\"</th>\n",
       "      <th>#</th>\n",
       "      <th>#coronavaccine</th>\n",
       "      <th>#coronavirus</th>\n",
       "      <th>#covid</th>\n",
       "      <th>#covid19</th>\n",
       "      <th>#covid19insights</th>\n",
       "      <th>#covid19vaccine</th>\n",
       "      <th>#health</th>\n",
       "      <th>...</th>\n",
       "      <th>—</th>\n",
       "      <th>‘</th>\n",
       "      <th>’</th>\n",
       "      <th>“</th>\n",
       "      <th>”</th>\n",
       "      <th>…</th>\n",
       "      <th>℃</th>\n",
       "      <th>⚪</th>\n",
       "      <th>️</th>\n",
       "      <th>🔘</th>\n",
       "    </tr>\n",
       "  </thead>\n",
       "  <tbody>\n",
       "    <tr>\n",
       "      <th>topic0</th>\n",
       "      <td>0.086</td>\n",
       "      <td>-0.122</td>\n",
       "      <td>-0.004</td>\n",
       "      <td>0.001</td>\n",
       "      <td>0.001</td>\n",
       "      <td>0.001</td>\n",
       "      <td>0.001</td>\n",
       "      <td>0.001</td>\n",
       "      <td>0.001</td>\n",
       "      <td>0.001</td>\n",
       "      <td>...</td>\n",
       "      <td>-0.003</td>\n",
       "      <td>-0.026</td>\n",
       "      <td>-0.170</td>\n",
       "      <td>-0.015</td>\n",
       "      <td>-0.012</td>\n",
       "      <td>0.003</td>\n",
       "      <td>0.001</td>\n",
       "      <td>0.045</td>\n",
       "      <td>0.045</td>\n",
       "      <td>0.023</td>\n",
       "    </tr>\n",
       "    <tr>\n",
       "      <th>topic1</th>\n",
       "      <td>0.075</td>\n",
       "      <td>-0.136</td>\n",
       "      <td>-0.006</td>\n",
       "      <td>-0.006</td>\n",
       "      <td>-0.006</td>\n",
       "      <td>-0.006</td>\n",
       "      <td>-0.006</td>\n",
       "      <td>-0.006</td>\n",
       "      <td>-0.006</td>\n",
       "      <td>-0.006</td>\n",
       "      <td>...</td>\n",
       "      <td>-0.007</td>\n",
       "      <td>0.048</td>\n",
       "      <td>0.404</td>\n",
       "      <td>0.002</td>\n",
       "      <td>0.001</td>\n",
       "      <td>-0.003</td>\n",
       "      <td>-0.000</td>\n",
       "      <td>0.025</td>\n",
       "      <td>0.025</td>\n",
       "      <td>0.012</td>\n",
       "    </tr>\n",
       "    <tr>\n",
       "      <th>topic2</th>\n",
       "      <td>0.010</td>\n",
       "      <td>-0.081</td>\n",
       "      <td>0.003</td>\n",
       "      <td>0.002</td>\n",
       "      <td>0.002</td>\n",
       "      <td>0.002</td>\n",
       "      <td>0.002</td>\n",
       "      <td>0.002</td>\n",
       "      <td>0.002</td>\n",
       "      <td>0.002</td>\n",
       "      <td>...</td>\n",
       "      <td>-0.001</td>\n",
       "      <td>0.044</td>\n",
       "      <td>0.220</td>\n",
       "      <td>0.021</td>\n",
       "      <td>0.032</td>\n",
       "      <td>0.016</td>\n",
       "      <td>0.001</td>\n",
       "      <td>-0.005</td>\n",
       "      <td>-0.005</td>\n",
       "      <td>-0.002</td>\n",
       "    </tr>\n",
       "    <tr>\n",
       "      <th>topic3</th>\n",
       "      <td>0.172</td>\n",
       "      <td>-0.027</td>\n",
       "      <td>0.016</td>\n",
       "      <td>0.015</td>\n",
       "      <td>0.015</td>\n",
       "      <td>0.015</td>\n",
       "      <td>0.015</td>\n",
       "      <td>0.015</td>\n",
       "      <td>0.015</td>\n",
       "      <td>0.015</td>\n",
       "      <td>...</td>\n",
       "      <td>0.003</td>\n",
       "      <td>0.064</td>\n",
       "      <td>0.237</td>\n",
       "      <td>0.013</td>\n",
       "      <td>0.008</td>\n",
       "      <td>-0.007</td>\n",
       "      <td>-0.000</td>\n",
       "      <td>-0.016</td>\n",
       "      <td>-0.016</td>\n",
       "      <td>-0.008</td>\n",
       "    </tr>\n",
       "    <tr>\n",
       "      <th>topic4</th>\n",
       "      <td>-0.171</td>\n",
       "      <td>0.075</td>\n",
       "      <td>0.007</td>\n",
       "      <td>0.002</td>\n",
       "      <td>0.002</td>\n",
       "      <td>0.002</td>\n",
       "      <td>0.002</td>\n",
       "      <td>0.002</td>\n",
       "      <td>0.002</td>\n",
       "      <td>0.002</td>\n",
       "      <td>...</td>\n",
       "      <td>0.002</td>\n",
       "      <td>0.040</td>\n",
       "      <td>0.083</td>\n",
       "      <td>0.000</td>\n",
       "      <td>-0.001</td>\n",
       "      <td>-0.002</td>\n",
       "      <td>-0.000</td>\n",
       "      <td>-0.008</td>\n",
       "      <td>-0.008</td>\n",
       "      <td>-0.004</td>\n",
       "    </tr>\n",
       "  </tbody>\n",
       "</table>\n",
       "<p>5 rows × 2928 columns</p>\n",
       "</div>"
      ],
      "text/plain": [
       "            !      \"      #  #coronavaccine  #coronavirus  #covid  #covid19  \\\n",
       "topic0  0.086 -0.122 -0.004           0.001         0.001   0.001     0.001   \n",
       "topic1  0.075 -0.136 -0.006          -0.006        -0.006  -0.006    -0.006   \n",
       "topic2  0.010 -0.081  0.003           0.002         0.002   0.002     0.002   \n",
       "topic3  0.172 -0.027  0.016           0.015         0.015   0.015     0.015   \n",
       "topic4 -0.171  0.075  0.007           0.002         0.002   0.002     0.002   \n",
       "\n",
       "        #covid19insights  #covid19vaccine  #health  ...      —      ‘      ’  \\\n",
       "topic0             0.001            0.001    0.001  ... -0.003 -0.026 -0.170   \n",
       "topic1            -0.006           -0.006   -0.006  ... -0.007  0.048  0.404   \n",
       "topic2             0.002            0.002    0.002  ... -0.001  0.044  0.220   \n",
       "topic3             0.015            0.015    0.015  ...  0.003  0.064  0.237   \n",
       "topic4             0.002            0.002    0.002  ...  0.002  0.040  0.083   \n",
       "\n",
       "            “      ”      …      ℃      ⚪      ️      🔘  \n",
       "topic0 -0.015 -0.012  0.003  0.001  0.045  0.045  0.023  \n",
       "topic1  0.002  0.001 -0.003 -0.000  0.025  0.025  0.012  \n",
       "topic2  0.021  0.032  0.016  0.001 -0.005 -0.005 -0.002  \n",
       "topic3  0.013  0.008 -0.007 -0.000 -0.016 -0.016 -0.008  \n",
       "topic4  0.000 -0.001 -0.002 -0.000 -0.008 -0.008 -0.004  \n",
       "\n",
       "[5 rows x 2928 columns]"
      ]
     },
     "execution_count": 25,
     "metadata": {},
     "output_type": "execute_result"
    }
   ],
   "source": [
    "weights = pd.DataFrame(pca.components_, columns=terms, index=['topic{}'.format(i) for i in range(8)])\n",
    "weights.head().round(3)"
   ]
  },
  {
   "cell_type": "code",
   "execution_count": 26,
   "id": "1c0a52f7",
   "metadata": {
    "execution": {
     "iopub.execute_input": "2022-03-21T08:02:39.425057Z",
     "iopub.status.busy": "2022-03-21T08:02:39.424460Z",
     "iopub.status.idle": "2022-03-21T08:02:39.435478Z",
     "shell.execute_reply": "2022-03-21T08:02:39.435929Z",
     "shell.execute_reply.started": "2022-03-19T14:09:08.11634Z"
    },
    "papermill": {
     "duration": 0.060633,
     "end_time": "2022-03-21T08:02:39.436096",
     "exception": false,
     "start_time": "2022-03-21T08:02:39.375463",
     "status": "completed"
    },
    "tags": []
   },
   "outputs": [
    {
     "data": {
      "text/html": [
       "<div>\n",
       "<style scoped>\n",
       "    .dataframe tbody tr th:only-of-type {\n",
       "        vertical-align: middle;\n",
       "    }\n",
       "\n",
       "    .dataframe tbody tr th {\n",
       "        vertical-align: top;\n",
       "    }\n",
       "\n",
       "    .dataframe thead th {\n",
       "        text-align: right;\n",
       "    }\n",
       "</style>\n",
       "<table border=\"1\" class=\"dataframe\">\n",
       "  <thead>\n",
       "    <tr style=\"text-align: right;\">\n",
       "      <th></th>\n",
       "      <th>vaccine</th>\n",
       "      <th>pfizer</th>\n",
       "      <th>sinovac</th>\n",
       "    </tr>\n",
       "  </thead>\n",
       "  <tbody>\n",
       "    <tr>\n",
       "      <th>topic0</th>\n",
       "      <td>-8.3</td>\n",
       "      <td>-1.5</td>\n",
       "      <td>-1.5</td>\n",
       "    </tr>\n",
       "    <tr>\n",
       "      <th>topic1</th>\n",
       "      <td>-4.5</td>\n",
       "      <td>0.4</td>\n",
       "      <td>-1.5</td>\n",
       "    </tr>\n",
       "    <tr>\n",
       "      <th>topic2</th>\n",
       "      <td>-1.1</td>\n",
       "      <td>-1.0</td>\n",
       "      <td>-0.7</td>\n",
       "    </tr>\n",
       "    <tr>\n",
       "      <th>topic3</th>\n",
       "      <td>-4.8</td>\n",
       "      <td>-1.5</td>\n",
       "      <td>-0.2</td>\n",
       "    </tr>\n",
       "    <tr>\n",
       "      <th>topic4</th>\n",
       "      <td>-5.0</td>\n",
       "      <td>-1.3</td>\n",
       "      <td>-0.6</td>\n",
       "    </tr>\n",
       "    <tr>\n",
       "      <th>topic5</th>\n",
       "      <td>18.6</td>\n",
       "      <td>4.0</td>\n",
       "      <td>5.5</td>\n",
       "    </tr>\n",
       "    <tr>\n",
       "      <th>topic6</th>\n",
       "      <td>-4.6</td>\n",
       "      <td>0.0</td>\n",
       "      <td>-0.3</td>\n",
       "    </tr>\n",
       "    <tr>\n",
       "      <th>topic7</th>\n",
       "      <td>-3.2</td>\n",
       "      <td>-2.0</td>\n",
       "      <td>-3.2</td>\n",
       "    </tr>\n",
       "  </tbody>\n",
       "</table>\n",
       "</div>"
      ],
      "text/plain": [
       "        vaccine  pfizer  sinovac\n",
       "topic0     -8.3    -1.5     -1.5\n",
       "topic1     -4.5     0.4     -1.5\n",
       "topic2     -1.1    -1.0     -0.7\n",
       "topic3     -4.8    -1.5     -0.2\n",
       "topic4     -5.0    -1.3     -0.6\n",
       "topic5     18.6     4.0      5.5\n",
       "topic6     -4.6     0.0     -0.3\n",
       "topic7     -3.2    -2.0     -3.2"
      ]
     },
     "execution_count": 26,
     "metadata": {},
     "output_type": "execute_result"
    }
   ],
   "source": [
    "vaccine = weights['vaccine pfizer sinovac'.split()].round(3) * 100\n",
    "vaccine"
   ]
  },
  {
   "cell_type": "code",
   "execution_count": 27,
   "id": "8a925d87",
   "metadata": {
    "execution": {
     "iopub.execute_input": "2022-03-21T08:02:39.532813Z",
     "iopub.status.busy": "2022-03-21T08:02:39.532183Z",
     "iopub.status.idle": "2022-03-21T08:02:39.535815Z",
     "shell.execute_reply": "2022-03-21T08:02:39.535117Z",
     "shell.execute_reply.started": "2022-03-19T14:09:08.134671Z"
    },
    "papermill": {
     "duration": 0.055924,
     "end_time": "2022-03-21T08:02:39.535949",
     "exception": false,
     "start_time": "2022-03-21T08:02:39.480025",
     "status": "completed"
    },
    "tags": []
   },
   "outputs": [
    {
     "data": {
      "text/plain": [
       "topic0   -11.3\n",
       "topic1    -5.6\n",
       "topic2    -2.8\n",
       "topic3    -6.5\n",
       "topic4    -6.9\n",
       "topic5    28.1\n",
       "topic6    -4.9\n",
       "topic7    -8.4\n",
       "dtype: float64"
      ]
     },
     "execution_count": 27,
     "metadata": {},
     "output_type": "execute_result"
    }
   ],
   "source": [
    "vaccine.T.sum()"
   ]
  },
  {
   "cell_type": "markdown",
   "id": "76130da2",
   "metadata": {
    "papermill": {
     "duration": 0.045441,
     "end_time": "2022-03-21T08:02:39.627300",
     "exception": false,
     "start_time": "2022-03-21T08:02:39.581859",
     "status": "completed"
    },
    "tags": []
   },
   "source": [
    "topic5 appears to be the most positive \"vaccine\" topic statement (at least for the small tokens we considered)"
   ]
  },
  {
   "cell_type": "markdown",
   "id": "c7c7ee52",
   "metadata": {
    "execution": {
     "iopub.execute_input": "2022-03-19T14:09:13.52872Z",
     "iopub.status.busy": "2022-03-19T14:09:13.528381Z",
     "iopub.status.idle": "2022-03-19T14:09:13.533286Z",
     "shell.execute_reply": "2022-03-19T14:09:13.532365Z",
     "shell.execute_reply.started": "2022-03-19T14:09:13.528688Z"
    },
    "papermill": {
     "duration": 0.042204,
     "end_time": "2022-03-21T08:02:39.713452",
     "exception": false,
     "start_time": "2022-03-21T08:02:39.671248",
     "status": "completed"
    },
    "tags": []
   },
   "source": [
    "## Semantic Analysis using TruncatedSVD"
   ]
  },
  {
   "cell_type": "code",
   "execution_count": 28,
   "id": "0720bb4a",
   "metadata": {
    "execution": {
     "iopub.execute_input": "2022-03-21T08:02:39.803560Z",
     "iopub.status.busy": "2022-03-21T08:02:39.802963Z",
     "iopub.status.idle": "2022-03-21T08:02:39.806256Z",
     "shell.execute_reply": "2022-03-21T08:02:39.806721Z",
     "shell.execute_reply.started": "2022-03-19T14:10:23.726384Z"
    },
    "papermill": {
     "duration": 0.050266,
     "end_time": "2022-03-21T08:02:39.806879",
     "exception": false,
     "start_time": "2022-03-21T08:02:39.756613",
     "status": "completed"
    },
    "tags": []
   },
   "outputs": [],
   "source": [
    "from sklearn.decomposition import TruncatedSVD"
   ]
  },
  {
   "cell_type": "code",
   "execution_count": 29,
   "id": "232e0a1b",
   "metadata": {
    "execution": {
     "iopub.execute_input": "2022-03-21T08:02:39.899822Z",
     "iopub.status.busy": "2022-03-21T08:02:39.899269Z",
     "iopub.status.idle": "2022-03-21T08:02:39.902237Z",
     "shell.execute_reply": "2022-03-21T08:02:39.902802Z",
     "shell.execute_reply.started": "2022-03-19T14:11:26.176229Z"
    },
    "papermill": {
     "duration": 0.050948,
     "end_time": "2022-03-21T08:02:39.902944",
     "exception": false,
     "start_time": "2022-03-21T08:02:39.851996",
     "status": "completed"
    },
    "tags": []
   },
   "outputs": [],
   "source": [
    "svd = TruncatedSVD(n_components=8, n_iter=100)  # n_iter=100 to make sure answer is almost same as PCA"
   ]
  },
  {
   "cell_type": "code",
   "execution_count": 30,
   "id": "0b71d3da",
   "metadata": {
    "execution": {
     "iopub.execute_input": "2022-03-21T08:02:39.997397Z",
     "iopub.status.busy": "2022-03-21T08:02:39.996764Z",
     "iopub.status.idle": "2022-03-21T08:02:40.378877Z",
     "shell.execute_reply": "2022-03-21T08:02:40.379687Z",
     "shell.execute_reply.started": "2022-03-19T14:12:30.505829Z"
    },
    "papermill": {
     "duration": 0.431302,
     "end_time": "2022-03-21T08:02:40.379933",
     "exception": false,
     "start_time": "2022-03-21T08:02:39.948631",
     "status": "completed"
    },
    "tags": []
   },
   "outputs": [],
   "source": [
    "svd_topic_vectors = svd.fit_transform(tfidf_docs.values)\n",
    "svd_topic_vectors = pd.DataFrame(svd_topic_vectors, columns=columns)"
   ]
  },
  {
   "cell_type": "code",
   "execution_count": 31,
   "id": "6d792424",
   "metadata": {
    "execution": {
     "iopub.execute_input": "2022-03-21T08:02:40.561178Z",
     "iopub.status.busy": "2022-03-21T08:02:40.560570Z",
     "iopub.status.idle": "2022-03-21T08:02:40.574329Z",
     "shell.execute_reply": "2022-03-21T08:02:40.574874Z",
     "shell.execute_reply.started": "2022-03-19T14:13:36.351888Z"
    },
    "papermill": {
     "duration": 0.064828,
     "end_time": "2022-03-21T08:02:40.575027",
     "exception": false,
     "start_time": "2022-03-21T08:02:40.510199",
     "status": "completed"
    },
    "tags": []
   },
   "outputs": [
    {
     "data": {
      "text/html": [
       "<div>\n",
       "<style scoped>\n",
       "    .dataframe tbody tr th:only-of-type {\n",
       "        vertical-align: middle;\n",
       "    }\n",
       "\n",
       "    .dataframe tbody tr th {\n",
       "        vertical-align: top;\n",
       "    }\n",
       "\n",
       "    .dataframe thead th {\n",
       "        text-align: right;\n",
       "    }\n",
       "</style>\n",
       "<table border=\"1\" class=\"dataframe\">\n",
       "  <thead>\n",
       "    <tr style=\"text-align: right;\">\n",
       "      <th></th>\n",
       "      <th>topic0</th>\n",
       "      <th>topic1</th>\n",
       "      <th>topic2</th>\n",
       "      <th>topic3</th>\n",
       "      <th>topic4</th>\n",
       "      <th>topic5</th>\n",
       "      <th>topic6</th>\n",
       "      <th>topic7</th>\n",
       "    </tr>\n",
       "  </thead>\n",
       "  <tbody>\n",
       "    <tr>\n",
       "      <th>0</th>\n",
       "      <td>0.331</td>\n",
       "      <td>0.058</td>\n",
       "      <td>-0.013</td>\n",
       "      <td>-0.024</td>\n",
       "      <td>-0.045</td>\n",
       "      <td>-0.091</td>\n",
       "      <td>-0.107</td>\n",
       "      <td>0.215</td>\n",
       "    </tr>\n",
       "    <tr>\n",
       "      <th>1</th>\n",
       "      <td>0.068</td>\n",
       "      <td>0.064</td>\n",
       "      <td>-0.055</td>\n",
       "      <td>-0.093</td>\n",
       "      <td>-0.100</td>\n",
       "      <td>-0.152</td>\n",
       "      <td>-0.113</td>\n",
       "      <td>-0.144</td>\n",
       "    </tr>\n",
       "    <tr>\n",
       "      <th>2</th>\n",
       "      <td>0.246</td>\n",
       "      <td>-0.173</td>\n",
       "      <td>0.711</td>\n",
       "      <td>-0.309</td>\n",
       "      <td>-0.066</td>\n",
       "      <td>0.090</td>\n",
       "      <td>0.026</td>\n",
       "      <td>-0.029</td>\n",
       "    </tr>\n",
       "    <tr>\n",
       "      <th>3</th>\n",
       "      <td>0.162</td>\n",
       "      <td>0.086</td>\n",
       "      <td>-0.042</td>\n",
       "      <td>0.167</td>\n",
       "      <td>-0.284</td>\n",
       "      <td>-0.008</td>\n",
       "      <td>0.283</td>\n",
       "      <td>-0.156</td>\n",
       "    </tr>\n",
       "    <tr>\n",
       "      <th>4</th>\n",
       "      <td>-0.299</td>\n",
       "      <td>-0.035</td>\n",
       "      <td>-0.112</td>\n",
       "      <td>-0.096</td>\n",
       "      <td>0.003</td>\n",
       "      <td>-0.033</td>\n",
       "      <td>0.069</td>\n",
       "      <td>-0.060</td>\n",
       "    </tr>\n",
       "    <tr>\n",
       "      <th>5</th>\n",
       "      <td>-0.242</td>\n",
       "      <td>0.004</td>\n",
       "      <td>-0.113</td>\n",
       "      <td>-0.119</td>\n",
       "      <td>0.010</td>\n",
       "      <td>0.069</td>\n",
       "      <td>0.077</td>\n",
       "      <td>0.031</td>\n",
       "    </tr>\n",
       "    <tr>\n",
       "      <th>6</th>\n",
       "      <td>0.039</td>\n",
       "      <td>0.005</td>\n",
       "      <td>0.271</td>\n",
       "      <td>-0.217</td>\n",
       "      <td>-0.132</td>\n",
       "      <td>-0.086</td>\n",
       "      <td>0.162</td>\n",
       "      <td>-0.156</td>\n",
       "    </tr>\n",
       "    <tr>\n",
       "      <th>7</th>\n",
       "      <td>-0.297</td>\n",
       "      <td>0.335</td>\n",
       "      <td>0.107</td>\n",
       "      <td>0.106</td>\n",
       "      <td>0.020</td>\n",
       "      <td>0.078</td>\n",
       "      <td>-0.210</td>\n",
       "      <td>-0.230</td>\n",
       "    </tr>\n",
       "  </tbody>\n",
       "</table>\n",
       "</div>"
      ],
      "text/plain": [
       "   topic0  topic1  topic2  topic3  topic4  topic5  topic6  topic7\n",
       "0   0.331   0.058  -0.013  -0.024  -0.045  -0.091  -0.107   0.215\n",
       "1   0.068   0.064  -0.055  -0.093  -0.100  -0.152  -0.113  -0.144\n",
       "2   0.246  -0.173   0.711  -0.309  -0.066   0.090   0.026  -0.029\n",
       "3   0.162   0.086  -0.042   0.167  -0.284  -0.008   0.283  -0.156\n",
       "4  -0.299  -0.035  -0.112  -0.096   0.003  -0.033   0.069  -0.060\n",
       "5  -0.242   0.004  -0.113  -0.119   0.010   0.069   0.077   0.031\n",
       "6   0.039   0.005   0.271  -0.217  -0.132  -0.086   0.162  -0.156\n",
       "7  -0.297   0.335   0.107   0.106   0.020   0.078  -0.210  -0.230"
      ]
     },
     "execution_count": 31,
     "metadata": {},
     "output_type": "execute_result"
    }
   ],
   "source": [
    "svd_topic_vectors.round(3).head(8)"
   ]
  },
  {
   "cell_type": "markdown",
   "id": "de4c2745",
   "metadata": {
    "papermill": {
     "duration": 0.045382,
     "end_time": "2022-03-21T08:02:40.665979",
     "exception": false,
     "start_time": "2022-03-21T08:02:40.620597",
     "status": "completed"
    },
    "tags": []
   },
   "source": [
    "Similar to PCA!"
   ]
  },
  {
   "cell_type": "code",
   "execution_count": null,
   "id": "26c176c9",
   "metadata": {
    "papermill": {
     "duration": 0.043954,
     "end_time": "2022-03-21T08:02:40.753979",
     "exception": false,
     "start_time": "2022-03-21T08:02:40.710025",
     "status": "completed"
    },
    "tags": []
   },
   "outputs": [],
   "source": []
  }
 ],
 "metadata": {
  "kernelspec": {
   "display_name": "Python 3",
   "language": "python",
   "name": "python3"
  },
  "language_info": {
   "codemirror_mode": {
    "name": "ipython",
    "version": 3
   },
   "file_extension": ".py",
   "mimetype": "text/x-python",
   "name": "python",
   "nbconvert_exporter": "python",
   "pygments_lexer": "ipython3",
   "version": "3.7.12"
  },
  "papermill": {
   "default_parameters": {},
   "duration": 16.022372,
   "end_time": "2022-03-21T08:02:41.408680",
   "environment_variables": {},
   "exception": null,
   "input_path": "__notebook__.ipynb",
   "output_path": "__notebook__.ipynb",
   "parameters": {},
   "start_time": "2022-03-21T08:02:25.386308",
   "version": "2.3.3"
  }
 },
 "nbformat": 4,
 "nbformat_minor": 5
}
